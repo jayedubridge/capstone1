{
 "cells": [
  {
   "cell_type": "code",
   "execution_count": 1,
   "id": "7a4149fa",
   "metadata": {},
   "outputs": [
    {
     "name": "stdout",
     "output_type": "stream",
     "text": [
      "<class 'list'>\n"
     ]
    }
   ],
   "source": [
    "list1=[1,2,3,4,5,6]\n",
    "print(type(list1))"
   ]
  },
  {
   "cell_type": "code",
   "execution_count": 2,
   "id": "840c3690",
   "metadata": {},
   "outputs": [],
   "source": [
    "l1=[\"a\"]"
   ]
  },
  {
   "cell_type": "code",
   "execution_count": 5,
   "id": "618a92f4",
   "metadata": {},
   "outputs": [
    {
     "name": "stdout",
     "output_type": "stream",
     "text": [
      "<class 'list'>\n"
     ]
    }
   ],
   "source": [
    "print(type(l1))"
   ]
  },
  {
   "cell_type": "code",
   "execution_count": 7,
   "id": "afee2209",
   "metadata": {},
   "outputs": [],
   "source": [
    "# help(l1) Dunder method __init __() , reverse()"
   ]
  },
  {
   "cell_type": "code",
   "execution_count": 10,
   "id": "f7372028",
   "metadata": {},
   "outputs": [],
   "source": [
    "class Python:\n",
    "    pass    "
   ]
  },
  {
   "cell_type": "code",
   "execution_count": 11,
   "id": "eaebcd2c",
   "metadata": {},
   "outputs": [],
   "source": [
    "class Python():\n",
    "    pass"
   ]
  },
  {
   "cell_type": "code",
   "execution_count": 12,
   "id": "4f2c7265",
   "metadata": {},
   "outputs": [],
   "source": [
    "class Python(object):\n",
    "    learn=\"Python\""
   ]
  },
  {
   "cell_type": "code",
   "execution_count": 14,
   "id": "664aa9b0",
   "metadata": {},
   "outputs": [
    {
     "name": "stdout",
     "output_type": "stream",
     "text": [
      "<class 'type'>\n",
      "I am Learning Python \n"
     ]
    }
   ],
   "source": [
    "class Python_test:\n",
    "    learn=\"I am Learning Python \"\n",
    "obj1=Python_test\n",
    "print(type(obj1))\n",
    "print(obj1.learn)"
   ]
  },
  {
   "cell_type": "markdown",
   "id": "70dd457b",
   "metadata": {},
   "source": [
    " # Constructor"
   ]
  },
  {
   "cell_type": "code",
   "execution_count": 18,
   "id": "1e59a5df",
   "metadata": {},
   "outputs": [
    {
     "data": {
      "text/plain": [
       "'Python'"
      ]
     },
     "execution_count": 18,
     "metadata": {},
     "output_type": "execute_result"
    }
   ],
   "source": [
    "class Pythonagain:\n",
    "    learn=\"Python\"\n",
    "    def __init__(self):\n",
    "        self.name=\"Python\"\n",
    "#         print(\"The name of the subject : \",self.name)\n",
    "obj1=Pythonagain()\n",
    "obj1.learn"
   ]
  },
  {
   "cell_type": "code",
   "execution_count": 19,
   "id": "eac9c744",
   "metadata": {},
   "outputs": [],
   "source": [
    "obj2=Pythonagain()"
   ]
  },
  {
   "cell_type": "code",
   "execution_count": 20,
   "id": "9c678296",
   "metadata": {},
   "outputs": [
    {
     "data": {
      "text/plain": [
       "'Python'"
      ]
     },
     "execution_count": 20,
     "metadata": {},
     "output_type": "execute_result"
    }
   ],
   "source": [
    "class Pythonagain:\n",
    "    \"\"\" This class has an Constructor\n",
    "    \"\"\"\n",
    "    learn=\"Python\"\n",
    "    def __init__(self):\n",
    "        self.name=\"Python\"\n",
    "#         print(\"The name of the subject : \",self.name)\n",
    "obj1=Pythonagain()\n",
    "obj1.learn"
   ]
  },
  {
   "cell_type": "code",
   "execution_count": 21,
   "id": "9a1c28e3",
   "metadata": {},
   "outputs": [
    {
     "name": "stdout",
     "output_type": "stream",
     "text": [
      " This class has an Constructor\n",
      "    \n"
     ]
    }
   ],
   "source": [
    "print(Pythonagain.__doc__)"
   ]
  },
  {
   "cell_type": "code",
   "execution_count": 23,
   "id": "2f8a7257",
   "metadata": {},
   "outputs": [
    {
     "name": "stdout",
     "output_type": "stream",
     "text": [
      "The name of the subject :  Python\n",
      "The name Author:  Guido Van Rossum\n",
      "The site to visit :  www.python.org\n"
     ]
    }
   ],
   "source": [
    "class PythonIntro:\n",
    "    \"\"\" This class has an Constructor\n",
    "    \"\"\"\n",
    "    learn=\"Python\"\n",
    "    def __init__(self):\n",
    "        self.name=\"Python\"\n",
    "        self.author_name=\"Guido Van Rossum\"\n",
    "        self.site=\"www.python.org\"\n",
    "        print(\"The name of the subject : \",self.name)\n",
    "        print(\"The name Author: \",self.author_name)\n",
    "        print(\"The site to visit : \",self.site)\n",
    "obj1=PythonIntro()\n"
   ]
  },
  {
   "cell_type": "code",
   "execution_count": 29,
   "id": "624caa99",
   "metadata": {},
   "outputs": [
    {
     "name": "stdout",
     "output_type": "stream",
     "text": [
      "The name of the subject :  Python\n",
      "The name Author:  Guido Van Rossum\n",
      "The site to visit :  www.python.org\n"
     ]
    }
   ],
   "source": [
    "class PythonIntro:\n",
    "    \"\"\" This class has an Constructor\n",
    "    \"\"\"\n",
    "    learn=\"Python\"\n",
    "    def __init__(self,name,author_name, site):\n",
    "        self.name=name\n",
    "        self.author_name= author_name\n",
    "        self.site=site\n",
    "        print(\"The name of the subject : \",self.name)\n",
    "        print(\"The name Author: \",self.author_name)\n",
    "        print(\"The site to visit : \",self.site)\n",
    "obj1=PythonIntro(\"Python\",\"Guido Van Rossum\",\"www.python.org\")"
   ]
  },
  {
   "cell_type": "code",
   "execution_count": 32,
   "id": "6bad8b61",
   "metadata": {},
   "outputs": [
    {
     "name": "stdout",
     "output_type": "stream",
     "text": [
      "I want 10 dozen of Apple\n",
      "The Apples are of Best Quality\n",
      "The Apples are Red color and sweet in taste \n",
      "\n",
      "I want 10 dozen of Apple\n",
      "The Apples are of Best Quality\n",
      "The Apples are Green color and Sweat and sour in taste \n"
     ]
    }
   ],
   "source": [
    "class Apple():\n",
    "    def __init__(self, color, taste):\n",
    "        self.color=color\n",
    "        self.taste=taste\n",
    "    def quantity(self):\n",
    "        return \"I want 10 dozen of Apple\"\n",
    "    def quality(self):\n",
    "        return \"The Apples are of Best Quality\"\n",
    "    def display(self):\n",
    "        return \"The Apples are {} color and {} in taste \".format(self.color, self.taste)\n",
    "obj1=Apple(\"Red\", \"Sweet\")\n",
    "obj2= Apple(\"Green\",\"Sweet and Sour\")\n",
    "print(obj1.quantity())\n",
    "print(obj1.quality())\n",
    "print(obj1.display())\n",
    "print()\n",
    "print(obj2.quantity())\n",
    "print(obj2.quality())\n",
    "print(obj2.display())\n",
    "        "
   ]
  },
  {
   "cell_type": "code",
   "execution_count": 33,
   "id": "c0f70ab1",
   "metadata": {},
   "outputs": [
    {
     "data": {
      "text/plain": [
       "['__class__',\n",
       " '__delattr__',\n",
       " '__dict__',\n",
       " '__dir__',\n",
       " '__doc__',\n",
       " '__eq__',\n",
       " '__format__',\n",
       " '__ge__',\n",
       " '__getattribute__',\n",
       " '__gt__',\n",
       " '__hash__',\n",
       " '__init__',\n",
       " '__init_subclass__',\n",
       " '__le__',\n",
       " '__lt__',\n",
       " '__module__',\n",
       " '__ne__',\n",
       " '__new__',\n",
       " '__reduce__',\n",
       " '__reduce_ex__',\n",
       " '__repr__',\n",
       " '__setattr__',\n",
       " '__sizeof__',\n",
       " '__str__',\n",
       " '__subclasshook__',\n",
       " '__weakref__',\n",
       " 'display',\n",
       " 'quality',\n",
       " 'quantity']"
      ]
     },
     "execution_count": 33,
     "metadata": {},
     "output_type": "execute_result"
    }
   ],
   "source": [
    "dir(Apple)"
   ]
  },
  {
   "cell_type": "code",
   "execution_count": 34,
   "id": "c7a6531c",
   "metadata": {},
   "outputs": [
    {
     "data": {
      "text/plain": [
       "['__class__',\n",
       " '__delattr__',\n",
       " '__dict__',\n",
       " '__dir__',\n",
       " '__doc__',\n",
       " '__eq__',\n",
       " '__format__',\n",
       " '__ge__',\n",
       " '__getattribute__',\n",
       " '__gt__',\n",
       " '__hash__',\n",
       " '__init__',\n",
       " '__init_subclass__',\n",
       " '__le__',\n",
       " '__lt__',\n",
       " '__module__',\n",
       " '__ne__',\n",
       " '__new__',\n",
       " '__reduce__',\n",
       " '__reduce_ex__',\n",
       " '__repr__',\n",
       " '__setattr__',\n",
       " '__sizeof__',\n",
       " '__str__',\n",
       " '__subclasshook__',\n",
       " '__weakref__',\n",
       " 'learn']"
      ]
     },
     "execution_count": 34,
     "metadata": {},
     "output_type": "execute_result"
    }
   ],
   "source": [
    "dir(PythonIntro)"
   ]
  },
  {
   "cell_type": "code",
   "execution_count": 35,
   "id": "40617ca2",
   "metadata": {},
   "outputs": [
    {
     "name": "stdout",
     "output_type": "stream",
     "text": [
      "I want 10 dozen of Apple\n",
      "The Apples are of Best Quality\n",
      "The Apples are Red color and Sweet in taste \n",
      "\n",
      "I want 10 dozen of Apple\n",
      "The Apples are of Best Quality\n",
      "The Apples are Green color and Sweet in taste \n"
     ]
    }
   ],
   "source": [
    "class Apple():\n",
    "    def __init__(self, color, taste):\n",
    "        self.color=color\n",
    "        self.taste=taste\n",
    "    def quantity(self):\n",
    "        return \"I want 10 dozen of Apple\"\n",
    "    def quality(self):\n",
    "        return \"The Apples are of Best Quality\"\n",
    "    def display(self):\n",
    "        return \"The Apples are {} color and {} in taste \".format(self.color, self.taste)\n",
    "obj1=Apple(\"Red\", \"Sweet\")\n",
    "print(obj1.quantity())\n",
    "print(obj1.quality())\n",
    "print(obj1.display())\n",
    "print()\n",
    "obj1.color=\"Green\"\n",
    "print(obj1.quantity())\n",
    "print(obj1.quality())\n",
    "print(obj1.display())\n",
    "\n"
   ]
  },
  {
   "cell_type": "code",
   "execution_count": 37,
   "id": "82b61c31",
   "metadata": {},
   "outputs": [
    {
     "name": "stdout",
     "output_type": "stream",
     "text": [
      "Name of the Employee :  Jay Salary :  10000\n",
      "Name of the Employee :  Vijay Salary :  20000\n",
      "Name of the Employee :  Shlok Salary :  50000\n",
      "Total No of Employee :  3\n",
      "Total Salary paid :  80000\n"
     ]
    }
   ],
   "source": [
    "class Employee():\n",
    "    'Employee Information'\n",
    "    emp_count=0\n",
    "    def __init__(self, name, salary):\n",
    "        self.name=name\n",
    "        self.salary=salary\n",
    "        Employee.emp_count+=1\n",
    "    def displayempinfo(self):\n",
    "        print(\"Name of the Employee : \",self.name,\"Salary : \",self.salary)\n",
    "        \n",
    "emp1=Employee(\"Jay\",10000)\n",
    "emp2=Employee(\"Vijay\",20000)\n",
    "emp3=Employee(\"Shlok\",50000)\n",
    "emp1.displayempinfo()\n",
    "emp2.displayempinfo()\n",
    "emp3.displayempinfo()\n",
    "print(\"Total No of Employee : \",Employee.emp_count)\n",
    "print(\"Total Salary paid : \",emp1.salary+emp2.salary+emp3.salary)"
   ]
  },
  {
   "cell_type": "markdown",
   "id": "b3fcde36",
   "metadata": {},
   "source": [
    "# Create a class Circle and in this show use of constructor , show methods like calculating area, calculating cirumference and use math module to get pi value and also create two objects and display method to show the area and circumference"
   ]
  },
  {
   "cell_type": "markdown",
   "id": "840bad8f",
   "metadata": {},
   "source": [
    "# write a program in Python using Classes to perform Banking Transacation like withdraw, Deposit and Balance"
   ]
  },
  {
   "cell_type": "code",
   "execution_count": 56,
   "id": "5f60ca6e",
   "metadata": {},
   "outputs": [],
   "source": [
    "class Account():\n",
    "    def __init__(self, owner, balance=0):\n",
    "        self.owner=owner\n",
    "        self.balance=balance\n",
    "    def __str__(self):\n",
    "        return f'Account owner:{self.owner}\\nAccount Balance:${self.balance}'\n",
    "    def deposit(self, dep_amt):\n",
    "        self.balance+=dep_amt\n",
    "        print(\"Succeddfully Depoisited\")\n",
    "    def withdraw(self,withd_amt):\n",
    "        if self.balance>=withd_amt:\n",
    "            self.balance-=withd_amt\n",
    "            print(\"Successfully Withdrawn\")\n",
    "        else:\n",
    "            print(\"Insufficent Funds\")\n",
    "            \n",
    "person1=Account(\"Jay\")\n",
    "person2=Account(\"Shlok\",10000)"
   ]
  },
  {
   "cell_type": "code",
   "execution_count": 49,
   "id": "c33ff3ca",
   "metadata": {},
   "outputs": [
    {
     "name": "stdout",
     "output_type": "stream",
     "text": [
      "Account owner:Jay\n",
      "Account Balance:$0\n"
     ]
    }
   ],
   "source": [
    "print(person1)"
   ]
  },
  {
   "cell_type": "code",
   "execution_count": 57,
   "id": "defcadfb",
   "metadata": {},
   "outputs": [
    {
     "name": "stdout",
     "output_type": "stream",
     "text": [
      "Account owner:Shlok\n",
      "Account Balance:$10000\n"
     ]
    }
   ],
   "source": [
    "print(person2)"
   ]
  },
  {
   "cell_type": "code",
   "execution_count": 58,
   "id": "f720ea95",
   "metadata": {},
   "outputs": [
    {
     "data": {
      "text/plain": [
       "10000"
      ]
     },
     "execution_count": 58,
     "metadata": {},
     "output_type": "execute_result"
    }
   ],
   "source": [
    "person2.balance"
   ]
  },
  {
   "cell_type": "code",
   "execution_count": 59,
   "id": "aeb1310b",
   "metadata": {},
   "outputs": [
    {
     "data": {
      "text/plain": [
       "'Shlok'"
      ]
     },
     "execution_count": 59,
     "metadata": {},
     "output_type": "execute_result"
    }
   ],
   "source": [
    "person2.owner"
   ]
  },
  {
   "cell_type": "code",
   "execution_count": 60,
   "id": "61c2f43f",
   "metadata": {},
   "outputs": [
    {
     "name": "stdout",
     "output_type": "stream",
     "text": [
      "Succeddfully Depoisited\n"
     ]
    }
   ],
   "source": [
    "person2.deposit(5000)"
   ]
  },
  {
   "cell_type": "code",
   "execution_count": 61,
   "id": "97799237",
   "metadata": {},
   "outputs": [
    {
     "data": {
      "text/plain": [
       "15000"
      ]
     },
     "execution_count": 61,
     "metadata": {},
     "output_type": "execute_result"
    }
   ],
   "source": [
    "person2.balance"
   ]
  },
  {
   "cell_type": "code",
   "execution_count": 62,
   "id": "c3f09346",
   "metadata": {},
   "outputs": [
    {
     "name": "stdout",
     "output_type": "stream",
     "text": [
      "Successfully Withdrawn\n"
     ]
    }
   ],
   "source": [
    "person2.withdraw(5000)"
   ]
  },
  {
   "cell_type": "code",
   "execution_count": null,
   "id": "f0c29643",
   "metadata": {},
   "outputs": [],
   "source": []
  },
  {
   "cell_type": "code",
   "execution_count": 63,
   "id": "8285467d",
   "metadata": {},
   "outputs": [
    {
     "data": {
      "text/plain": [
       "10000"
      ]
     },
     "execution_count": 63,
     "metadata": {},
     "output_type": "execute_result"
    }
   ],
   "source": [
    "person2.balance"
   ]
  },
  {
   "cell_type": "code",
   "execution_count": 80,
   "id": "1e18a0c6",
   "metadata": {},
   "outputs": [
    {
     "name": "stdout",
     "output_type": "stream",
     "text": [
      "**************************************** Welcome to ABC Bank ****************************************\n",
      "Enter the userid jay\n",
      "Hey put your password please \n",
      "Enter the passwordjay@123\n",
      "You have Successfully Logged in \n",
      "Please enter your choice \n",
      " 1. Balance \n",
      " 2. Withdraw \n",
      " 3. Deposit \n",
      "\n",
      "You have entered : \t3\n",
      "Enter the amount to be deposit : 1000\n",
      "You have deposited :  1000\n",
      "your current balance is  11000\n"
     ]
    }
   ],
   "source": [
    "import time\n",
    "class Bank:\n",
    "    def __init__(self,balance=10000):\n",
    "        self.balance=balance\n",
    "    def balance_v(self): \n",
    "        print(\"Your current balance is : \",self.balance)\n",
    "        \n",
    "    def withdraw(self):\n",
    "        withdraw=int(input(\"Enter the amount to be withdraw : \"))\n",
    "        if  self.balance-1000>withdraw:\n",
    "            self.balance=self.balance-withdraw\n",
    "            print(\"You have withdraw : \", withdraw)\n",
    "            print(\"your current balance is \",self.balance)\n",
    "        else:\n",
    "            print(\"Please enter less amount \")\n",
    "\n",
    "    def deposit(self):\n",
    "        deposit=int(input(\"Enter the amount to be deposit : \"))\n",
    "        self.balance=self.balance+deposit\n",
    "        print(\"You have deposited : \", deposit)\n",
    "        print(\"your current balance is \",self.balance)\n",
    "        \n",
    "bank_trans=Bank()\n",
    "print(\"*\"*40,\"Welcome to ABC Bank\",\"*\"*40)\n",
    "time.sleep(2)\n",
    "userid=input(\"Enter the userid \").lower()\n",
    "user_info={\"jay\":\"jay@123\",\"vijay\":\"vijay@123\"}\n",
    "if userid in user_info.keys():\n",
    "    print(\"Hey put your password please \")\n",
    "    password= input(\"Enter the password\").lower()\n",
    "    if password in user_info[userid]:\n",
    "        print(\"You have Successfully Logged in \")\n",
    "\n",
    "        choice=int(input(\"Please enter your choice \\n 1. Balance \\n 2. Withdraw \\n 3. Deposit \\n\\nYou have entered : \\t\"))\n",
    "        if choice==1:\n",
    "            bank_trans.balance_v()\n",
    "        elif choice==2:\n",
    "            bank_trans.withdraw()\n",
    "        elif choice==3:\n",
    "            bank_trans.deposit()\n",
    "        else:\n",
    "            print(\"Enter the proper choice\")\n",
    "    else:\n",
    "        print(\"Please enter the correct Password \")    \n"
   ]
  },
  {
   "cell_type": "markdown",
   "id": "859c60bc",
   "metadata": {},
   "source": [
    "# Inheritance"
   ]
  },
  {
   "cell_type": "code",
   "execution_count": null,
   "id": "27443307",
   "metadata": {},
   "outputs": [],
   "source": [
    "class A():\n",
    "    pass\n",
    "class B(A):\n",
    "    pass"
   ]
  },
  {
   "cell_type": "markdown",
   "id": "5382c693",
   "metadata": {},
   "source": [
    "# Single Inheritance"
   ]
  },
  {
   "cell_type": "code",
   "execution_count": 3,
   "id": "ab024279",
   "metadata": {},
   "outputs": [
    {
     "name": "stdout",
     "output_type": "stream",
     "text": [
      "Inside Car Class\n",
      "This is a Vehicle Class\n"
     ]
    }
   ],
   "source": [
    "class Vehicle:\n",
    "    def vehicle_info(self):\n",
    "        print(\"This is a Vehicle Class\")\n",
    "class Car(Vehicle):\n",
    "    def car_info(self):\n",
    "        print('Inside Car Class')\n",
    "\n",
    "car1=Car()\n",
    "car1.car_info()\n",
    "car1.vehicle_info()\n",
    "\n"
   ]
  },
  {
   "cell_type": "code",
   "execution_count": 4,
   "id": "5c9d2017",
   "metadata": {},
   "outputs": [
    {
     "name": "stdout",
     "output_type": "stream",
     "text": [
      "This is a Vehicle Class\n"
     ]
    },
    {
     "ename": "AttributeError",
     "evalue": "'Vehicle' object has no attribute 'car_info'",
     "output_type": "error",
     "traceback": [
      "\u001b[1;31m---------------------------------------------------------------------------\u001b[0m",
      "\u001b[1;31mAttributeError\u001b[0m                            Traceback (most recent call last)",
      "\u001b[1;32m<ipython-input-4-0468120d5705>\u001b[0m in \u001b[0;36m<module>\u001b[1;34m\u001b[0m\n\u001b[0;32m      1\u001b[0m \u001b[0mcar2\u001b[0m\u001b[1;33m=\u001b[0m\u001b[0mVehicle\u001b[0m\u001b[1;33m(\u001b[0m\u001b[1;33m)\u001b[0m\u001b[1;33m\u001b[0m\u001b[1;33m\u001b[0m\u001b[0m\n\u001b[0;32m      2\u001b[0m \u001b[0mcar2\u001b[0m\u001b[1;33m.\u001b[0m\u001b[0mvehicle_info\u001b[0m\u001b[1;33m(\u001b[0m\u001b[1;33m)\u001b[0m\u001b[1;33m\u001b[0m\u001b[1;33m\u001b[0m\u001b[0m\n\u001b[1;32m----> 3\u001b[1;33m \u001b[0mcar2\u001b[0m\u001b[1;33m.\u001b[0m\u001b[0mcar_info\u001b[0m\u001b[1;33m(\u001b[0m\u001b[1;33m)\u001b[0m\u001b[1;33m\u001b[0m\u001b[1;33m\u001b[0m\u001b[0m\n\u001b[0m",
      "\u001b[1;31mAttributeError\u001b[0m: 'Vehicle' object has no attribute 'car_info'"
     ]
    }
   ],
   "source": [
    "car2=Vehicle()\n",
    "car2.vehicle_info()\n",
    "car2.car_info()  # As car is a child class we cannot access its method from Parents object"
   ]
  },
  {
   "cell_type": "markdown",
   "id": "0c884b58",
   "metadata": {},
   "source": [
    "# Multiple Inheritance\n"
   ]
  },
  {
   "cell_type": "code",
   "execution_count": 5,
   "id": "b74ef1c9",
   "metadata": {},
   "outputs": [
    {
     "name": "stdout",
     "output_type": "stream",
     "text": [
      "Inside the person class\n",
      "Name is Jay and Age is 37 \n",
      "Inside Company class\n",
      "Name of Company is Harbinger System and Location is Pune \n",
      "Inside Employee Class\n",
      "Salary is  10000 and Skills are Python, Machine Learning \n"
     ]
    }
   ],
   "source": [
    "class Person:\n",
    "    def person_info(self, name, age):\n",
    "        print(\"Inside the person class\")\n",
    "        print(\"Name is {} and Age is {} \".format(name,age))\n",
    "    \n",
    "class Company:\n",
    "    def company_info(self, company_name, location):\n",
    "        print(\"Inside Company class\")\n",
    "        print(\"Name of Company is {} and Location is {} \".format(company_name, location))\n",
    "        \n",
    "class Employee(Person, Company):\n",
    "    def employee_info(self, salary, skill):\n",
    "        print(\"Inside Employee Class\")\n",
    "        print(\"Salary is  {} and Skills are {} \".format(salary,skill))\n",
    "\n",
    "emp=Employee()\n",
    "\n",
    "emp.person_info(\"Jay\",37)\n",
    "emp.company_info(\"Harbinger System\",\"Pune\")\n",
    "emp.employee_info(10000,\"Python, Machine Learning\")"
   ]
  },
  {
   "cell_type": "markdown",
   "id": "6c243885",
   "metadata": {},
   "source": [
    "# Multilevel Inheritance"
   ]
  },
  {
   "cell_type": "code",
   "execution_count": 7,
   "id": "e9af91e7",
   "metadata": {},
   "outputs": [
    {
     "name": "stdout",
     "output_type": "stream",
     "text": [
      "Inside the Vehicle class\n",
      "Inside the Car class\n",
      "Inside the Sports_Car class\n"
     ]
    }
   ],
   "source": [
    "class Vehicle:\n",
    "    def vehicle_info(self):\n",
    "        print(\"Inside the Vehicle class\")\n",
    "class Car(Vehicle):\n",
    "    def car_info(self):\n",
    "        print(\"Inside the Car class\")\n",
    "class Sports_Car(Car):\n",
    "    def sports_car_info(self):\n",
    "        print(\"Inside the Sports_Car class\")\n",
    "s_car=Sports_Car()\n",
    "s_car.vehicle_info()\n",
    "s_car.car_info()\n",
    "s_car.sports_car_info()"
   ]
  },
  {
   "cell_type": "markdown",
   "id": "46301e0e",
   "metadata": {},
   "source": [
    "# Hirerachical Inheritance"
   ]
  },
  {
   "cell_type": "code",
   "execution_count": 9,
   "id": "14b04d2c",
   "metadata": {},
   "outputs": [
    {
     "name": "stdout",
     "output_type": "stream",
     "text": [
      "This is a Vehicle Class\n",
      "This is Car Class\n",
      "Company Name for Car is : BMW\n",
      "This is a Vehicle Class\n",
      "This is Truck Class\n",
      "Company Name for Truck is : TATA\n"
     ]
    }
   ],
   "source": [
    "class Vehicle:\n",
    "    def vehicle_info(self):\n",
    "        print(\"This is a Vehicle Class\")\n",
    "class Car(Vehicle):\n",
    "    def car_info(self,company_name):\n",
    "        print(\"This is Car Class\")\n",
    "        print(\"Company Name for Car is : {}\".format(company_name))\n",
    "class Truck(Vehicle):\n",
    "    def truck_info(self,company_name):\n",
    "        print(\"This is Truck Class\")\n",
    "        print(\"Company Name for Truck is : {}\".format(company_name))\n",
    "obj1=Car()\n",
    "obj1.vehicle_info()\n",
    "obj1.car_info(\"BMW\")\n",
    "obj2=Truck()\n",
    "obj2.vehicle_info()\n",
    "obj2.truck_info('TATA')"
   ]
  },
  {
   "cell_type": "markdown",
   "id": "b1c9f39b",
   "metadata": {},
   "source": [
    "# Hybrid Inheritance"
   ]
  },
  {
   "cell_type": "code",
   "execution_count": 14,
   "id": "863a1d70",
   "metadata": {},
   "outputs": [
    {
     "name": "stdout",
     "output_type": "stream",
     "text": [
      "This is a Vehicle Class\n",
      "This is Car Class\n",
      "Company Name for Car is : BMW\n",
      "Inside the Sports Car\n",
      "\n",
      "\n",
      "This is a Vehicle Class\n",
      "This is Truck Class\n",
      "Company Name for Truck is : TATA\n"
     ]
    }
   ],
   "source": [
    "class Vehicle:\n",
    "    def vehicle_info(self):\n",
    "        print(\"This is a Vehicle Class\")\n",
    "class Car(Vehicle):\n",
    "    def car_info(self,company_name):\n",
    "        print(\"This is Car Class\")\n",
    "        print(\"Company Name for Car is : {}\".format(company_name))\n",
    "class Truck(Vehicle):\n",
    "    def truck_info(self,company_name):\n",
    "        print(\"This is Truck Class\")\n",
    "        print(\"Company Name for Truck is : {}\".format(company_name))\n",
    "class Sports_Car(Car):\n",
    "    def sports_car_info(self):\n",
    "        print(\"Inside the Sports Car\")\n",
    "    \n",
    "obj1=Sports_Car()\n",
    "obj1.vehicle_info()\n",
    "obj1.car_info(\"BMW\")\n",
    "obj1.sports_car_info()\n",
    "\n",
    "print()\n",
    "print()\n",
    "\n",
    "obj2=Truck()\n",
    "obj2.vehicle_info()\n",
    "obj2.truck_info('TATA')\n"
   ]
  },
  {
   "cell_type": "code",
   "execution_count": 15,
   "id": "982a20ee",
   "metadata": {},
   "outputs": [
    {
     "name": "stdout",
     "output_type": "stream",
     "text": [
      "True\n"
     ]
    }
   ],
   "source": [
    "print(issubclass(Car,Vehicle))"
   ]
  },
  {
   "cell_type": "code",
   "execution_count": 16,
   "id": "a2c4cb11",
   "metadata": {},
   "outputs": [
    {
     "name": "stdout",
     "output_type": "stream",
     "text": [
      "True\n"
     ]
    }
   ],
   "source": [
    "print(issubclass(Sports_Car,Vehicle))"
   ]
  },
  {
   "cell_type": "markdown",
   "id": "1c4d1822",
   "metadata": {},
   "source": [
    "# Method Overriding"
   ]
  },
  {
   "cell_type": "code",
   "execution_count": 21,
   "id": "9a9b3898",
   "metadata": {},
   "outputs": [
    {
     "name": "stdout",
     "output_type": "stream",
     "text": [
      "Maximum speed is 350 Km/hr\n",
      "Maximum speed is 450 Km/hr\n",
      "True\n"
     ]
    }
   ],
   "source": [
    "class Vehicle:\n",
    "    def max_speed(self):\n",
    "        print(\"Maximum speed is 450 Km/hr\")\n",
    "        \n",
    "class Car(Vehicle):\n",
    "    def max_speed(self):\n",
    "        print(\"Maximum speed is 350 Km/hr\")\n",
    "        super().max_speed()\n",
    "        \n",
    "car=Car()\n",
    "car.max_speed()\n",
    "print(isinstance(car,Car))"
   ]
  },
  {
   "cell_type": "code",
   "execution_count": 23,
   "id": "ed14653e",
   "metadata": {},
   "outputs": [
    {
     "name": "stdout",
     "output_type": "stream",
     "text": [
      "True\n"
     ]
    }
   ],
   "source": [
    "a=[1,2,3,4,5]\n",
    "print(isinstance(a,list))"
   ]
  },
  {
   "cell_type": "code",
   "execution_count": 26,
   "id": "0e2b61a7",
   "metadata": {},
   "outputs": [
    {
     "name": "stdout",
     "output_type": "stream",
     "text": [
      "Enter the number : 10.2\n",
      "<class 'float'> 10.2\n"
     ]
    }
   ],
   "source": [
    "a=float(input(\"Enter the number : \"))\n",
    "\n",
    "if isinstance(a,str):\n",
    "    a=int(a)\n",
    "    print(type(a),a)\n",
    "    \n",
    "else:\n",
    "    print(type(a),a)"
   ]
  },
  {
   "cell_type": "code",
   "execution_count": 29,
   "id": "50a9e8f1",
   "metadata": {},
   "outputs": [
    {
     "name": "stdout",
     "output_type": "stream",
     "text": [
      "[12, 13, 10.4, 2.4, 12, 'Apple', 'Jay']\n",
      "[12, 13, 12]\n"
     ]
    }
   ],
   "source": [
    "a=[12,13,10.4,2.4,12,\"Apple\",\"Jay\"]\n",
    "b=[]\n",
    "for i in a:\n",
    "    if isinstance(i,int):\n",
    "        b.append(i)\n",
    "print(a)\n",
    "print(b)\n"
   ]
  },
  {
   "cell_type": "markdown",
   "id": "883528c6",
   "metadata": {},
   "source": [
    "# Method Resolution Order"
   ]
  },
  {
   "cell_type": "code",
   "execution_count": 31,
   "id": "9d7d61f4",
   "metadata": {},
   "outputs": [
    {
     "name": "stdout",
     "output_type": "stream",
     "text": [
      "In Class C\n",
      "[<class '__main__.C'>, <class '__main__.B'>, <class '__main__.A'>, <class 'object'>]\n"
     ]
    }
   ],
   "source": [
    "class A:\n",
    "    def process(self):\n",
    "        print(\"In Class A\")\n",
    "        \n",
    "class B(A):\n",
    "    def process(self):\n",
    "        print(\"In Class B\")\n",
    "        \n",
    "class C(B,A):\n",
    "    def process(self):\n",
    "        print(\"In Class C\")\n",
    "    \n",
    "c1=C()\n",
    "c1.process()\n",
    "print(C.mro())\n",
    "    "
   ]
  },
  {
   "cell_type": "code",
   "execution_count": 32,
   "id": "44be2e3e",
   "metadata": {},
   "outputs": [
    {
     "name": "stdout",
     "output_type": "stream",
     "text": [
      "[<class '__main__.M'>, <class '__main__.B'>, <class '__main__.A'>, <class '__main__.X'>, <class '__main__.Y'>, <class '__main__.Z'>, <class 'object'>]\n"
     ]
    }
   ],
   "source": [
    "class X:\n",
    "    pass\n",
    "\n",
    "class Y:\n",
    "    pass\n",
    "\n",
    "class Z:\n",
    "    pass\n",
    "\n",
    "class A(X,Y):\n",
    "    pass\n",
    "\n",
    "class B(Y,Z):\n",
    "    pass\n",
    "\n",
    "class M(B,A,Z):\n",
    "    pass\n",
    "\n",
    "print(M.mro())"
   ]
  },
  {
   "cell_type": "markdown",
   "id": "830ab3bb",
   "metadata": {},
   "source": [
    "# Public , private , Procted and Special Members"
   ]
  },
  {
   "cell_type": "markdown",
   "id": "bd442015",
   "metadata": {},
   "source": [
    "# a=10 # public\n",
    "# _a,_a_ # Procted Member\n",
    "# __a # Private\n",
    "# __a__ # special member"
   ]
  },
  {
   "cell_type": "markdown",
   "id": "fd026c85",
   "metadata": {},
   "source": [
    "# Public Eg"
   ]
  },
  {
   "cell_type": "code",
   "execution_count": 34,
   "id": "9ece547a",
   "metadata": {},
   "outputs": [],
   "source": [
    "class Pub:\n",
    "    def member(self):\n",
    "        print(\"A public Member\")\n",
    "obja=Pub()"
   ]
  },
  {
   "cell_type": "code",
   "execution_count": 35,
   "id": "e9545823",
   "metadata": {},
   "outputs": [
    {
     "name": "stdout",
     "output_type": "stream",
     "text": [
      "A public Member\n"
     ]
    }
   ],
   "source": [
    "obja.member()"
   ]
  },
  {
   "cell_type": "code",
   "execution_count": 36,
   "id": "e3774734",
   "metadata": {},
   "outputs": [],
   "source": [
    "class A:\n",
    "    def __init__(self):\n",
    "        self.__private=20\n",
    "        self._protected=30\n",
    "        self.public=10\n",
    "        \n",
    "    def cal(self):\n",
    "        return self.__private+self.public\n",
    "    \n",
    "class B(A):\n",
    "    \n",
    "    def __init__(self):\n",
    "        A.__init__(self)\n",
    "        \n",
    "    def cal2(self):\n",
    "        return self._protected+ self.public\n",
    "    "
   ]
  },
  {
   "cell_type": "code",
   "execution_count": 40,
   "id": "fa9860fd",
   "metadata": {},
   "outputs": [
    {
     "name": "stdout",
     "output_type": "stream",
     "text": [
      "10\n",
      "30\n",
      "30\n"
     ]
    }
   ],
   "source": [
    "obj1=A()\n",
    "print(obj1.public)\n",
    "print(obj1._protected)\n",
    "# print(obj1.__private)\n",
    "print(obj1.cal())\n"
   ]
  },
  {
   "cell_type": "code",
   "execution_count": 43,
   "id": "20261a85",
   "metadata": {},
   "outputs": [
    {
     "name": "stdout",
     "output_type": "stream",
     "text": [
      "10\n",
      "30\n",
      "30\n",
      "40\n"
     ]
    }
   ],
   "source": [
    "obj2=B()\n",
    "print(obj2.public)\n",
    "print(obj2._protected)\n",
    "# print(obj2.__private)\n",
    "print(obj2.cal())\n",
    "print(obj2.cal2())"
   ]
  },
  {
   "cell_type": "markdown",
   "id": "1e50efb2",
   "metadata": {},
   "source": [
    "# Encapsulation"
   ]
  },
  {
   "cell_type": "code",
   "execution_count": 53,
   "id": "35059b58",
   "metadata": {},
   "outputs": [
    {
     "name": "stdout",
     "output_type": "stream",
     "text": [
      "Selling price : 60000\n"
     ]
    }
   ],
   "source": [
    "class Computer:\n",
    "    def __init__(self):\n",
    "        self.__maxprice=60000\n",
    "        self.model=\"HP\"\n",
    "    def sell(self):\n",
    "        print(\"Selling price : {}\".format(self.__maxprice))\n",
    "    def modeldisplay(self):\n",
    "        print(\"Model is : {}\".format(self.model))\n",
    "    def setMaxPrice(self,price):\n",
    "        self.__maxprice=price\n",
    "c=Computer()\n",
    "c.sell()"
   ]
  },
  {
   "cell_type": "code",
   "execution_count": 54,
   "id": "bf3cfa9e",
   "metadata": {},
   "outputs": [
    {
     "name": "stdout",
     "output_type": "stream",
     "text": [
      "Selling price : 60000\n"
     ]
    }
   ],
   "source": [
    "c.__maxprice=65000\n",
    "c.sell()"
   ]
  },
  {
   "cell_type": "code",
   "execution_count": 55,
   "id": "b8b060fb",
   "metadata": {},
   "outputs": [
    {
     "data": {
      "text/plain": [
       "'HP'"
      ]
     },
     "execution_count": 55,
     "metadata": {},
     "output_type": "execute_result"
    }
   ],
   "source": [
    "c.model"
   ]
  },
  {
   "cell_type": "code",
   "execution_count": 56,
   "id": "e251684d",
   "metadata": {},
   "outputs": [
    {
     "name": "stdout",
     "output_type": "stream",
     "text": [
      "Model is : HP\n"
     ]
    }
   ],
   "source": [
    "c.modeldisplay()"
   ]
  },
  {
   "cell_type": "code",
   "execution_count": 57,
   "id": "8272b2ba",
   "metadata": {},
   "outputs": [],
   "source": [
    "c.model=\"IBM\""
   ]
  },
  {
   "cell_type": "code",
   "execution_count": 58,
   "id": "243ca6ce",
   "metadata": {},
   "outputs": [
    {
     "name": "stdout",
     "output_type": "stream",
     "text": [
      "Model is : IBM\n"
     ]
    }
   ],
   "source": [
    "c.modeldisplay()"
   ]
  },
  {
   "cell_type": "code",
   "execution_count": 59,
   "id": "5ba2dda0",
   "metadata": {},
   "outputs": [
    {
     "name": "stdout",
     "output_type": "stream",
     "text": [
      "Selling price : 65000\n"
     ]
    }
   ],
   "source": [
    "c.setMaxPrice(65000)\n",
    "c.sell()"
   ]
  },
  {
   "cell_type": "code",
   "execution_count": null,
   "id": "4ddfa89c",
   "metadata": {},
   "outputs": [],
   "source": []
  },
  {
   "cell_type": "markdown",
   "id": "3431bf9e",
   "metadata": {},
   "source": [
    "# Polymorphism"
   ]
  },
  {
   "cell_type": "code",
   "execution_count": 61,
   "id": "9e227133",
   "metadata": {},
   "outputs": [],
   "source": [
    "class Parrot:\n",
    "    def fly(self):\n",
    "        print(\"Parrot can Fly\")\n",
    "        \n",
    "    def swim(self):\n",
    "        print(\"Parrot cannot Swim\")\n",
    "class Penguin:\n",
    "    def fly(self):\n",
    "        print(\"Pengiun cannot Fly\")\n",
    "    \n",
    "    def swim(self):\n",
    "        print(\"Pengiuns can Swim\")\n",
    "\n",
    "def flying_test(bird):\n",
    "    bird.fly()\n",
    "    \n",
    "blu=Parrot()\n",
    "peggy=Penguin()"
   ]
  },
  {
   "cell_type": "code",
   "execution_count": 63,
   "id": "5f30afe9",
   "metadata": {},
   "outputs": [
    {
     "name": "stdout",
     "output_type": "stream",
     "text": [
      "Pegiun cannot Fly\n"
     ]
    }
   ],
   "source": [
    "flying_test(peggy)"
   ]
  },
  {
   "cell_type": "code",
   "execution_count": null,
   "id": "46bdbd2b",
   "metadata": {},
   "outputs": [],
   "source": []
  },
  {
   "cell_type": "code",
   "execution_count": null,
   "id": "d7fb5751",
   "metadata": {},
   "outputs": [],
   "source": []
  },
  {
   "cell_type": "code",
   "execution_count": null,
   "id": "611355a2",
   "metadata": {},
   "outputs": [],
   "source": []
  },
  {
   "cell_type": "code",
   "execution_count": null,
   "id": "40acb321",
   "metadata": {},
   "outputs": [],
   "source": []
  },
  {
   "cell_type": "code",
   "execution_count": null,
   "id": "419da04e",
   "metadata": {},
   "outputs": [],
   "source": []
  },
  {
   "cell_type": "code",
   "execution_count": null,
   "id": "775fc7a4",
   "metadata": {},
   "outputs": [],
   "source": []
  },
  {
   "cell_type": "code",
   "execution_count": null,
   "id": "7af77e0f",
   "metadata": {},
   "outputs": [],
   "source": []
  },
  {
   "cell_type": "code",
   "execution_count": null,
   "id": "ca85f792",
   "metadata": {},
   "outputs": [],
   "source": []
  },
  {
   "cell_type": "code",
   "execution_count": null,
   "id": "9244fdae",
   "metadata": {},
   "outputs": [],
   "source": []
  },
  {
   "cell_type": "code",
   "execution_count": null,
   "id": "432541f7",
   "metadata": {},
   "outputs": [],
   "source": []
  },
  {
   "cell_type": "code",
   "execution_count": null,
   "id": "b0065014",
   "metadata": {},
   "outputs": [],
   "source": []
  },
  {
   "cell_type": "code",
   "execution_count": null,
   "id": "c5e43100",
   "metadata": {},
   "outputs": [],
   "source": []
  },
  {
   "cell_type": "code",
   "execution_count": null,
   "id": "e8be875b",
   "metadata": {},
   "outputs": [],
   "source": []
  },
  {
   "cell_type": "code",
   "execution_count": null,
   "id": "e0cbd1bb",
   "metadata": {},
   "outputs": [],
   "source": []
  },
  {
   "cell_type": "code",
   "execution_count": null,
   "id": "58d5ea9a",
   "metadata": {},
   "outputs": [],
   "source": []
  },
  {
   "cell_type": "code",
   "execution_count": null,
   "id": "c85e6e6f",
   "metadata": {},
   "outputs": [],
   "source": []
  },
  {
   "cell_type": "code",
   "execution_count": null,
   "id": "db0e320d",
   "metadata": {},
   "outputs": [],
   "source": []
  },
  {
   "cell_type": "code",
   "execution_count": null,
   "id": "48a0c3c1",
   "metadata": {},
   "outputs": [],
   "source": []
  },
  {
   "cell_type": "code",
   "execution_count": null,
   "id": "ca671965",
   "metadata": {},
   "outputs": [],
   "source": []
  },
  {
   "cell_type": "code",
   "execution_count": null,
   "id": "f3749150",
   "metadata": {},
   "outputs": [],
   "source": []
  },
  {
   "cell_type": "code",
   "execution_count": null,
   "id": "4698be42",
   "metadata": {},
   "outputs": [],
   "source": []
  }
 ],
 "metadata": {
  "kernelspec": {
   "display_name": "Python 3",
   "language": "python",
   "name": "python3"
  },
  "language_info": {
   "codemirror_mode": {
    "name": "ipython",
    "version": 3
   },
   "file_extension": ".py",
   "mimetype": "text/x-python",
   "name": "python",
   "nbconvert_exporter": "python",
   "pygments_lexer": "ipython3",
   "version": "3.8.8"
  }
 },
 "nbformat": 4,
 "nbformat_minor": 5
}
